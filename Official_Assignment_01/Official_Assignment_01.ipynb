{
 "cells": [
  {
   "cell_type": "markdown",
   "metadata": {},
   "source": [
    "# Assignment_01 "
   ]
  },
  {
   "cell_type": "markdown",
   "metadata": {},
   "source": [
    "# Question 01. Calculate Area of circle"
   ]
  },
  {
   "cell_type": "code",
   "execution_count": 1,
   "metadata": {},
   "outputs": [
    {
     "name": "stdout",
     "output_type": "stream",
     "text": [
      "Input Radius: 0.5\n",
      "Area of circle with radius: 0.79\n"
     ]
    }
   ],
   "source": [
    "import math\n",
    "\n",
    "r = float(input(\"Input Radius: \"))\n",
    "area = math.pi*r*r\n",
    "\n",
    "print(\"Area of circle with radius: %.2f\" %area)"
   ]
  },
  {
   "cell_type": "markdown",
   "metadata": {},
   "source": [
    "# Question_02: Check Number Either Positive, negative, or zero"
   ]
  },
  {
   "cell_type": "code",
   "execution_count": 5,
   "metadata": {},
   "outputs": [
    {
     "name": "stdout",
     "output_type": "stream",
     "text": [
      "Enter Number: 0\n",
      "Zero Entered\n"
     ]
    }
   ],
   "source": [
    "n = int(input(\"Enter Number: \"))\n",
    "if n == 0:\n",
    "    print(\"Zero Entered\")\n",
    "elif n>0:\n",
    "    print(\"Positive Number Entered\")\n",
    "else:\n",
    "    print(\"Negative Number Entered\")"
   ]
  },
  {
   "cell_type": "code",
   "execution_count": 6,
   "metadata": {},
   "outputs": [
    {
     "name": "stdout",
     "output_type": "stream",
     "text": [
      "Enter Number: -1\n",
      "Negative Number Entered\n"
     ]
    }
   ],
   "source": [
    "n = int(input(\"Enter Number: \"))\n",
    "if n == 0:\n",
    "    print(\"Zero Entered\")\n",
    "elif n>0:\n",
    "    print(\"Positive Number Entered\")\n",
    "else:\n",
    "    print(\"Negative Number Entered\")"
   ]
  },
  {
   "cell_type": "code",
   "execution_count": 7,
   "metadata": {},
   "outputs": [
    {
     "name": "stdout",
     "output_type": "stream",
     "text": [
      "Enter Number: 3\n",
      "Positive Number Entered\n"
     ]
    }
   ],
   "source": [
    "n = int(input(\"Enter Number: \"))\n",
    "if n == 0:\n",
    "    print(\"Zero Entered\")\n",
    "elif n>0:\n",
    "    print(\"Positive Number Entered\")\n",
    "else:\n",
    "    print(\"Negative Number Entered\")"
   ]
  },
  {
   "cell_type": "markdown",
   "metadata": {},
   "source": [
    "# Question_03: Divisibilty Check two Numbers"
   ]
  },
  {
   "cell_type": "code",
   "execution_count": 10,
   "metadata": {},
   "outputs": [
    {
     "name": "stdout",
     "output_type": "stream",
     "text": [
      "Enter Numerator: 4\n",
      "Enter Denominator: 2\n",
      "Number 4 is fully Divisible by 2..\n"
     ]
    }
   ],
   "source": [
    "nu = int(input(\"Enter Numerator: \"))\n",
    "du = int(input(\"Enter Denominator: \"))\n",
    "ans = nu%du\n",
    "if ans == 0:\n",
    "    print(f\"Number {nu} is fully Divisible by {du}..\")\n",
    "else:\n",
    "    print(f\"Number {nu} is notfully  Divisible by {du}..\")"
   ]
  },
  {
   "cell_type": "code",
   "execution_count": 11,
   "metadata": {},
   "outputs": [
    {
     "name": "stdout",
     "output_type": "stream",
     "text": [
      "Enter Numerator: 7\n",
      "Enter Denominator: 4\n",
      "Number 7 is not fully Divisible by 4..\n"
     ]
    }
   ],
   "source": [
    "nu = int(input(\"Enter Numerator: \"))\n",
    "du = int(input(\"Enter Denominator: \"))\n",
    "ans = nu%du\n",
    "if ans == 0:\n",
    "    print(f\"Number {nu} is fully Divisible by {du}..\")\n",
    "else:\n",
    "    print(f\"Number {nu} is not fully Divisible by {du}..\")"
   ]
  },
  {
   "cell_type": "markdown",
   "metadata": {},
   "source": [
    "\n",
    "# Question_04: Days Calculator"
   ]
  },
  {
   "cell_type": "code",
   "execution_count": 17,
   "metadata": {},
   "outputs": [
    {
     "name": "stdout",
     "output_type": "stream",
     "text": [
      "Enter Date in (dd/mm/yy) format: 12,12,2018\n"
     ]
    },
    {
     "ename": "ValueError",
     "evalue": "invalid literal for int() with base 10: '12,12,2018'",
     "output_type": "error",
     "traceback": [
      "\u001b[1;31m---------------------------------------------------------------------------\u001b[0m",
      "\u001b[1;31mValueError\u001b[0m                                Traceback (most recent call last)",
      "\u001b[1;32m<ipython-input-17-bd0ca6d0f7c7>\u001b[0m in \u001b[0;36m<module>\u001b[1;34m\u001b[0m\n\u001b[0;32m      1\u001b[0m \u001b[1;32mfrom\u001b[0m \u001b[0mdatetime\u001b[0m \u001b[1;32mimport\u001b[0m \u001b[0mdate\u001b[0m\u001b[1;33m\u001b[0m\u001b[1;33m\u001b[0m\u001b[0m\n\u001b[0;32m      2\u001b[0m \u001b[1;33m\u001b[0m\u001b[0m\n\u001b[1;32m----> 3\u001b[1;33m \u001b[0md1\u001b[0m \u001b[1;33m=\u001b[0m \u001b[0mdate\u001b[0m\u001b[1;33m(\u001b[0m\u001b[0mint\u001b[0m\u001b[1;33m(\u001b[0m\u001b[0minput\u001b[0m\u001b[1;33m(\u001b[0m\u001b[1;34m\"Enter Date in (dd/mm/yy) format: \"\u001b[0m\u001b[1;33m)\u001b[0m\u001b[1;33m)\u001b[0m\u001b[1;33m)\u001b[0m\u001b[1;33m\u001b[0m\u001b[1;33m\u001b[0m\u001b[0m\n\u001b[0m\u001b[0;32m      4\u001b[0m \u001b[0md2\u001b[0m \u001b[1;33m=\u001b[0m \u001b[0mdate\u001b[0m\u001b[1;33m(\u001b[0m\u001b[0mint\u001b[0m\u001b[1;33m(\u001b[0m\u001b[0minput\u001b[0m\u001b[1;33m(\u001b[0m\u001b[1;34m\"Enter Date in (dd/mm/yy) format: \"\u001b[0m\u001b[1;33m)\u001b[0m\u001b[1;33m)\u001b[0m\u001b[1;33m)\u001b[0m\u001b[1;33m\u001b[0m\u001b[1;33m\u001b[0m\u001b[0m\n\u001b[0;32m      5\u001b[0m \u001b[0mdelta\u001b[0m \u001b[1;33m=\u001b[0m \u001b[0md2\u001b[0m\u001b[1;33m-\u001b[0m\u001b[0md1\u001b[0m\u001b[1;33m\u001b[0m\u001b[1;33m\u001b[0m\u001b[0m\n",
      "\u001b[1;31mValueError\u001b[0m: invalid literal for int() with base 10: '12,12,2018'"
     ]
    }
   ],
   "source": [
    "from datetime import date\n",
    "\n",
    "d1 = date(int(input(\"Enter Date in (dd/mm/yy) format: \")))\n",
    "d2 = date(int(input(\"Enter Date in (dd/mm/yy) format: \")))\n",
    "delta = d2-d1\n",
    "print(delta.days)"
   ]
  },
  {
   "cell_type": "code",
   "execution_count": 26,
   "metadata": {},
   "outputs": [
    {
     "name": "stdout",
     "output_type": "stream",
     "text": [
      "Enter a date in DD/MM/YY format: 2018/12/12\n",
      "2018-12-12\n"
     ]
    }
   ],
   "source": [
    "import datetime\n",
    "\n",
    "date_entry = input('Enter a date in DD/MM/YY format: ')\n",
    "day, month, year = map(int, date_entry.split('/'))\n",
    "date1 = datetime.date(day, month, year)\n",
    "print(date1)"
   ]
  },
  {
   "cell_type": "markdown",
   "metadata": {},
   "source": [
    "\n",
    "# Question_05: Enter volume of sphere"
   ]
  },
  {
   "cell_type": "code",
   "execution_count": 34,
   "metadata": {},
   "outputs": [
    {
     "name": "stdout",
     "output_type": "stream",
     "text": [
      "Enter Radius of sphere: 1\n",
      "Volume of sphere with radius 1.0 is:  4.19047619047619\n"
     ]
    }
   ],
   "source": [
    "pi=22/7\n",
    "rad = float(input('Enter Radius of sphere: '))\n",
    "volume = (4/3) * (pi * rad ** 3)\n",
    "print(f\"Volume of sphere with radius {rad} is: \", volume)"
   ]
  },
  {
   "cell_type": "markdown",
   "metadata": {},
   "source": [
    "# Question_06: Copy String n Times"
   ]
  },
  {
   "cell_type": "code",
   "execution_count": 39,
   "metadata": {},
   "outputs": [
    {
     "name": "stdout",
     "output_type": "stream",
     "text": [
      "Enter String: Hi\n",
      "How many copies of string u need: 4\n",
      "4 copies of string Hi are: HiHiHiHi"
     ]
    }
   ],
   "source": [
    "string = input(\"Enter String: \")\n",
    "n = int(input(\"How many copies of string u need: \"))\n",
    "print(f\"{n} copies of string {string} are: \", end = \"\")\n",
    "for i in range(0,n):\n",
    "    print(string,end = \"\")"
   ]
  },
  {
   "cell_type": "markdown",
   "metadata": {},
   "source": [
    "# Question_07: Check if number is Even or ODD"
   ]
  },
  {
   "cell_type": "code",
   "execution_count": 40,
   "metadata": {},
   "outputs": [
    {
     "name": "stdout",
     "output_type": "stream",
     "text": [
      "Enter Number: 4\n",
      "4 is Even\n"
     ]
    }
   ],
   "source": [
    "n = int(input(\"Enter Number: \"))\n",
    "if n%2 == 0:\n",
    "    print(f\"{n} is Even\")\n",
    "else:\n",
    "    print(f\"{n} is ODD\")"
   ]
  },
  {
   "cell_type": "code",
   "execution_count": 41,
   "metadata": {},
   "outputs": [
    {
     "name": "stdout",
     "output_type": "stream",
     "text": [
      "Enter Number: 9\n",
      "9 is ODD\n"
     ]
    }
   ],
   "source": [
    "n = int(input(\"Enter Number: \"))\n",
    "if n%2 == 0:\n",
    "    print(f\"{n} is Even\")\n",
    "else:\n",
    "    print(f\"{n} is ODD\")"
   ]
  },
  {
   "cell_type": "markdown",
   "metadata": {},
   "source": [
    "# Question_08: Vowel Tester"
   ]
  },
  {
   "cell_type": "code",
   "execution_count": 44,
   "metadata": {},
   "outputs": [
    {
     "name": "stdout",
     "output_type": "stream",
     "text": [
      "Enter a Character: A\n",
      "Letter A is Vowel\n"
     ]
    }
   ],
   "source": [
    "vow = input(\"Enter a Character: \")\n",
    "if vow == \"A\" or vow == \"a\" or vow == \"E\" or vow == \"e\" or vow == \"I\" or vow == \"i\" or vow == \"o\" or vow == \"O\" or vow == \"u\" or vow == \"U\":\n",
    "    print(f\"Letter {vow} is Vowel\")\n",
    "else:\n",
    "    print(f\"Letter {vow} is not Vowel\")"
   ]
  },
  {
   "cell_type": "code",
   "execution_count": 45,
   "metadata": {},
   "outputs": [
    {
     "name": "stdout",
     "output_type": "stream",
     "text": [
      "Enter a Character: e\n",
      "Letter e is Vowel\n"
     ]
    }
   ],
   "source": [
    "vow = input(\"Enter a Character: \")\n",
    "if vow == \"A\" or vow == \"a\" or vow == \"E\" or vow == \"e\" or vow == \"I\" or vow == \"i\" or vow == \"o\" or vow == \"O\" or vow == \"u\" or vow == \"U\":\n",
    "    print(f\"Letter {vow} is Vowel\")\n",
    "else:\n",
    "    print(f\"Letter {vow} is not Vowel\")"
   ]
  },
  {
   "cell_type": "code",
   "execution_count": 46,
   "metadata": {},
   "outputs": [
    {
     "name": "stdout",
     "output_type": "stream",
     "text": [
      "Enter a Character: N\n",
      "Letter N is not Vowel\n"
     ]
    }
   ],
   "source": [
    "vow = input(\"Enter a Character: \")\n",
    "if vow == \"A\" or vow == \"a\" or vow == \"E\" or vow == \"e\" or vow == \"I\" or vow == \"i\" or vow == \"o\" or vow == \"O\" or vow == \"u\" or vow == \"U\":\n",
    "    print(f\"Letter {vow} is Vowel\")\n",
    "else:\n",
    "    print(f\"Letter {vow} is not Vowel\")"
   ]
  },
  {
   "cell_type": "markdown",
   "metadata": {},
   "source": [
    "# Question_09: Triangle Area"
   ]
  },
  {
   "cell_type": "code",
   "execution_count": 47,
   "metadata": {},
   "outputs": [
    {
     "name": "stdout",
     "output_type": "stream",
     "text": [
      "Enter Magnitude of Triangle base: 4\n",
      "Enter Magnitude of Triangle height: 4\n",
      "Area of Triangle with Height 4 and base 4 is: 8.0\n"
     ]
    }
   ],
   "source": [
    "base = int(input(\"Enter Magnitude of Triangle base: \"))\n",
    "height = int(input(\"Enter Magnitude of Triangle height: \"))\n",
    "area = (base*height)/2\n",
    "print(f\"Area of Triangle with Height {height} and base {base} is: {area}\")"
   ]
  },
  {
   "cell_type": "markdown",
   "metadata": {},
   "source": [
    "# Question_10: Calculate Interest"
   ]
  },
  {
   "cell_type": "code",
   "execution_count": 2,
   "metadata": {},
   "outputs": [
    {
     "name": "stdout",
     "output_type": "stream",
     "text": [
      "Enter the principle amount:100000\n",
      "Enter the time(years):5\n",
      "Enter the rate in %:3.25\n",
      "The simple interest is: 16250.0\n"
     ]
    }
   ],
   "source": [
    "principle= float(input(\"Enter the principle amount:\"))\n",
    "time= float(input(\"Enter the time(years):\"))\n",
    "rate= float(input(\"Enter the rate in %:\"))\n",
    "simple_interest=(principle*time*rate)/100\n",
    "print(\"The simple interest is:\",simple_interest)"
   ]
  },
  {
   "cell_type": "markdown",
   "metadata": {},
   "source": [
    "# Question_11: Euclidean Distance"
   ]
  },
  {
   "cell_type": "code",
   "execution_count": 6,
   "metadata": {},
   "outputs": [
    {
     "name": "stdout",
     "output_type": "stream",
     "text": [
      "Enter Co-ordinate for x1: 2\n",
      "Enter Co-ordinate for x2: 4\n",
      "Enter Co-ordinate for y1: 4\n",
      "Enter Co-ordinate for y2: 4\n",
      "Distance between points (2, 4) and (4, 4) are: 2.0\n"
     ]
    }
   ],
   "source": [
    "import math\n",
    "x1 = int(input(\"Enter Co-ordinate for x1: \"))\n",
    "x2 = int(input(\"Enter Co-ordinate for x2: \"))\n",
    "y1 = int(input(\"Enter Co-ordinate for y1: \"))\n",
    "y2 = int(input(\"Enter Co-ordinate for y2: \"))\n",
    "\n",
    "dist = math.sqrt((x2-x1)**2 + (y2-y1)**2)\n",
    "print(f\"Distance between points {x1,x2} and {y1,y2} are: \" + str(dist))\n"
   ]
  },
  {
   "cell_type": "markdown",
   "metadata": {},
   "source": [
    "# Question_12: Feet To Centimeter Converter"
   ]
  },
  {
   "cell_type": "code",
   "execution_count": 7,
   "metadata": {},
   "outputs": [
    {
     "name": "stdout",
     "output_type": "stream",
     "text": [
      "Enter Heigth in feet: 5\n",
      "There are 152.4 CM in 5 ft\n"
     ]
    }
   ],
   "source": [
    "f = int(input(\"Enter Heigth in feet: \"))\n",
    "cm = f*30.48\n",
    "print(f\"There are {cm} CM in {f} ft\")"
   ]
  },
  {
   "cell_type": "markdown",
   "metadata": {},
   "source": [
    "# Question_13: BMI Calculator"
   ]
  },
  {
   "cell_type": "code",
   "execution_count": 9,
   "metadata": {},
   "outputs": [
    {
     "name": "stdout",
     "output_type": "stream",
     "text": [
      "Enter Height in Cm: 180\n",
      "Enter Weight in Kg: 75\n",
      "Your BMI is 23.148148148148152\n"
     ]
    }
   ],
   "source": [
    "height= int(input(\"Enter Height in Cm: \"))\n",
    "weight = int(input(\"Enter Weight in Kg: \"))\n",
    "bmi = (weight/height/height)*10000\n",
    "print(f\"Your BMI is {bmi}\")"
   ]
  },
  {
   "cell_type": "markdown",
   "metadata": {},
   "source": [
    "# Question_14: Sum of n positive integers"
   ]
  },
  {
   "cell_type": "code",
   "execution_count": 14,
   "metadata": {
    "scrolled": true
   },
   "outputs": [
    {
     "name": "stdout",
     "output_type": "stream",
     "text": [
      "Enter value of n: 5\n",
      "Sum of n positive number till 5 is 15.0\n"
     ]
    }
   ],
   "source": [
    "n = int(input(\"Enter value of n: \"))\n",
    "total = n * (n+1) / 2\n",
    "print(f\"Sum of n positive number till {n} is\",total)"
   ]
  },
  {
   "cell_type": "markdown",
   "metadata": {},
   "source": [
    "\n",
    "# Question_15: Digit sum of number"
   ]
  },
  {
   "cell_type": "code",
   "execution_count": 19,
   "metadata": {},
   "outputs": [
    {
     "name": "stdout",
     "output_type": "stream",
     "text": [
      "Enter a Number: 15\n",
      "Sum of numbers = 6\n"
     ]
    }
   ],
   "source": [
    "Number = int(input(\"Enter a Number: \"))\n",
    "Sum = 0\n",
    "while(Number > 0):\n",
    "    Reminder = Number % 10\n",
    "    Sum = Sum + Reminder\n",
    "    Number = Number //10\n",
    "\n",
    "print(\"Sum of numbers = %d\" %Sum)"
   ]
  },
  {
   "cell_type": "code",
   "execution_count": 20,
   "metadata": {},
   "outputs": [
    {
     "name": "stdout",
     "output_type": "stream",
     "text": [
      "Enter a Number: 1234\n",
      "Sum of numbers = 10\n"
     ]
    }
   ],
   "source": [
    "Number = int(input(\"Enter a Number: \"))\n",
    "Sum = 0\n",
    "while(Number > 0):\n",
    "    Reminder = Number % 10\n",
    "    Sum = Sum + Reminder\n",
    "    Number = Number //10\n",
    "\n",
    "print(\"Sum of numbers = %d\" %Sum)"
   ]
  },
  {
   "cell_type": "markdown",
   "metadata": {},
   "source": [
    "# Question_16: Decimal to bianry converter "
   ]
  },
  {
   "cell_type": "code",
   "execution_count": 21,
   "metadata": {},
   "outputs": [
    {
     "name": "stdout",
     "output_type": "stream",
     "text": [
      "Enter a decimal Number: 5\n",
      "Binary representation of 5 is 101\n"
     ]
    }
   ],
   "source": [
    "decimal = int(input(\"Enter a decimal Number: \"))\n",
    "binary = bin(decimal).replace(\"0b\", \"\")  \n",
    "print(f\"Binary representation of {decimal} is {binary}\")"
   ]
  },
  {
   "cell_type": "code",
   "execution_count": 22,
   "metadata": {},
   "outputs": [
    {
     "name": "stdout",
     "output_type": "stream",
     "text": [
      "Enter a decimal Number: 32\n",
      "Binary representation of 32 is 100000\n"
     ]
    }
   ],
   "source": [
    "decimal = int(input(\"Enter a decimal Number: \"))\n",
    "binary = bin(decimal).replace(\"0b\", \"\")  \n",
    "print(f\"Binary representation of {decimal} is {binary}\")\n"
   ]
  },
  {
   "cell_type": "markdown",
   "metadata": {},
   "source": [
    "# Question_17: Bianry to decimal Conveerter"
   ]
  },
  {
   "cell_type": "code",
   "execution_count": 29,
   "metadata": {},
   "outputs": [
    {
     "name": "stdout",
     "output_type": "stream",
     "text": [
      "Enter a binary Number: 1101\n",
      "Decimal representation of 1101 is: 13\n"
     ]
    }
   ],
   "source": [
    "a = input(\"Enter a binary Number: \")\n",
    "dec = (int(a, 2))\n",
    "print(f\"Decimal representation of {a} is: {dec}\")"
   ]
  },
  {
   "cell_type": "code",
   "execution_count": 30,
   "metadata": {},
   "outputs": [
    {
     "name": "stdout",
     "output_type": "stream",
     "text": [
      "Enter a binary Number: 1001\n",
      "Decimal representation of 1001 is: 9\n"
     ]
    }
   ],
   "source": [
    "a = input(\"Enter a binary Number: \")\n",
    "dec = (int(a, 2))\n",
    "print(f\"Decimal representation of {a} is: {dec}\")"
   ]
  },
  {
   "cell_type": "markdown",
   "metadata": {},
   "source": [
    "# Question_18: Vowel and Consonent Counter"
   ]
  },
  {
   "cell_type": "code",
   "execution_count": 34,
   "metadata": {},
   "outputs": [
    {
     "name": "stdout",
     "output_type": "stream",
     "text": [
      "Please text : QuickBrownFoxJumpsovertheDog\n",
      "Vowels:  9\n",
      "Consonants:  19\n"
     ]
    }
   ],
   "source": [
    "str1 = input(\"Please text : \")\n",
    "vowels = 0\n",
    "consonants = 0\n",
    "\n",
    "for i in str1:\n",
    "    if(i == 'a' or i == 'e' or i == 'i' or i == 'o' or i == 'u'\n",
    "       or i == 'A' or i == 'E' or i == 'I' or i == 'O' or i == 'U'):\n",
    "        vowels = vowels + 1\n",
    "    else:\n",
    "        consonants = consonants + 1\n",
    "        \n",
    "print(\"Vowels: \", vowels)\n",
    "print(\"Consonants: \", consonants)"
   ]
  },
  {
   "cell_type": "markdown",
   "metadata": {},
   "source": [
    "# Question_19: Palindrome Tester"
   ]
  },
  {
   "cell_type": "code",
   "execution_count": 40,
   "metadata": {},
   "outputs": [
    {
     "name": "stdout",
     "output_type": "stream",
     "text": [
      "Enter Text: AHA\n",
      "Text AHA is Palindrome\n"
     ]
    }
   ],
   "source": [
    "def isPalindrome(s): \n",
    "    \n",
    "    rev = ''.join(reversed(s)) \n",
    "    if (s == rev): \n",
    "        return True\n",
    "    return False\n",
    "\n",
    "s = input(\"Enter Text: \")\n",
    "ans = isPalindrome(s) \n",
    "\n",
    "if (ans): \n",
    "    print(f\"Text {s} is Palindrome\") \n",
    "\n",
    "else:\n",
    "    print(f\"Text {s} is not Palindrome\") \n",
    "\n"
   ]
  },
  {
   "cell_type": "code",
   "execution_count": 1,
   "metadata": {},
   "outputs": [
    {
     "name": "stdout",
     "output_type": "stream",
     "text": [
      "Enter Text: HELLO\n",
      "Text HELLO is not Palindrome\n"
     ]
    }
   ],
   "source": [
    "def isPalindrome(s): \n",
    "    \n",
    "    rev = ''.join(reversed(s)) \n",
    "    if (s == rev): \n",
    "        return True\n",
    "    return False\n",
    "\n",
    "s = input(\"Enter Text: \")\n",
    "ans = isPalindrome(s) \n",
    "\n",
    "if (ans): \n",
    "    print(f\"Text {s} is Palindrome\") \n",
    "\n",
    "else:\n",
    "    print(f\"Text {s} is not Palindrome\") \n",
    "\n"
   ]
  },
  {
   "cell_type": "markdown",
   "metadata": {},
   "source": [
    "# Question_20: Count alphabet, numbers and special characters"
   ]
  },
  {
   "cell_type": "code",
   "execution_count": 5,
   "metadata": {},
   "outputs": [
    {
     "name": "stdout",
     "output_type": "stream",
     "text": [
      "Enter Text: Python 3.2\n",
      "Numbers:   2\n",
      "Alphabets 6\n",
      "Special Characters 1\n",
      "Spaces:  1\n"
     ]
    }
   ],
   "source": [
    "string = input(\"Enter Text: \")\n",
    "alphabets = digits = special = spaces = 0\n",
    "\n",
    "for i in range(len(string)):\n",
    "    if(string[i].isalpha()):\n",
    "        alphabets = alphabets + 1\n",
    "    elif(string[i].isdigit()):\n",
    "        digits = digits + 1\n",
    "    elif(string[i].isspace()):\n",
    "        spaces = spaces+1\n",
    "    else:\n",
    "        special = special + 1\n",
    "        \n",
    "print(\"Numbers:  \", digits)\n",
    "print(\"Alphabets\", alphabets)\n",
    "print(\"Special Characters\", special)\n",
    "print(\"Spaces: \", spaces)"
   ]
  },
  {
   "cell_type": "markdown",
   "metadata": {},
   "source": [
    "# Question_21: Program to Construct Following Pattern"
   ]
  },
  {
   "cell_type": "code",
   "execution_count": 31,
   "metadata": {},
   "outputs": [
    {
     "name": "stdout",
     "output_type": "stream",
     "text": [
      "* \r\n",
      "* * \r\n",
      "* * * \r\n",
      "* * * * \r\n",
      "* * * * * \r\n",
      "* * * * \r\n",
      "* * * \r\n",
      "* * \r\n",
      "* \r\n",
      "\r\n"
     ]
    }
   ],
   "source": [
    "rows = 5\n",
    "\n",
    "for i in range (0, rows):\n",
    "    for j in range(0, i + 1):\n",
    "        print(\"*\", end=' ')\n",
    "    print(\"\\r\")\n",
    "\n",
    "for i in range (rows, 0, -1):\n",
    "    for j in range(0, i -1):\n",
    "        print(\"*\", end=' ')\n",
    "    print(\"\\r\")"
   ]
  },
  {
   "cell_type": "markdown",
   "metadata": {},
   "source": [
    "# Question_22: Program To Construct Followinf Pattern"
   ]
  },
  {
   "cell_type": "code",
   "execution_count": 50,
   "metadata": {},
   "outputs": [
    {
     "name": "stdout",
     "output_type": "stream",
     "text": [
      "1 \r\n",
      "1 2 \r\n",
      "1 2 3 \r\n",
      "1 2 3 4 \r\n",
      "1 2 3 4 5 \r\n",
      "1 2 3 4 \r\n",
      "1 2 3 \r\n",
      "1 2 \r\n",
      "1 \r\n"
     ]
    }
   ],
   "source": [
    "rows = 5\n",
    "\n",
    "for i in range (1, rows+1):\n",
    "    for j in range(1, i + 1):\n",
    "        print(j, end=' ')\n",
    "    print(\"\\r\")\n",
    "\n",
    "for i in range (rows, 1,-1):\n",
    "    for j in range(1, i):\n",
    "        print(j, end=' ')\n",
    "    print(\"\\r\")"
   ]
  },
  {
   "cell_type": "markdown",
   "metadata": {},
   "source": [
    "# Question_23: Program to Construct Following Pattern"
   ]
  },
  {
   "cell_type": "code",
   "execution_count": 8,
   "metadata": {},
   "outputs": [
    {
     "name": "stdout",
     "output_type": "stream",
     "text": [
      "\n",
      "1\n",
      "22\n",
      "333\n",
      "4444\n",
      "55555\n",
      "666666\n",
      "7777777\n",
      "88888888\n",
      "999999999\n"
     ]
    }
   ],
   "source": [
    "for num in range(10):\n",
    "    for i in range(num):\n",
    "        print (num, end=\"\") #print number\n",
    "    # new line after each row to display pattern correctly\n",
    "    print(\"\")"
   ]
  }
 ],
 "metadata": {
  "kernelspec": {
   "display_name": "Python 3",
   "language": "python",
   "name": "python3"
  },
  "language_info": {
   "codemirror_mode": {
    "name": "ipython",
    "version": 3
   },
   "file_extension": ".py",
   "mimetype": "text/x-python",
   "name": "python",
   "nbconvert_exporter": "python",
   "pygments_lexer": "ipython3",
   "version": "3.7.3"
  }
 },
 "nbformat": 4,
 "nbformat_minor": 2
}
