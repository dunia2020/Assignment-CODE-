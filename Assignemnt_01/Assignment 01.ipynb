{
 "cells": [
  {
   "cell_type": "markdown",
   "metadata": {},
   "source": [
    "# Write Program to Check Whether the number is Positive or negative1"
   ]
  },
  {
   "cell_type": "code",
   "execution_count": 6,
   "metadata": {},
   "outputs": [
    {
     "name": "stdout",
     "output_type": "stream",
     "text": [
      "ENter The Number to check: 21\n",
      "The Number is Positive\n"
     ]
    }
   ],
   "source": [
    "a = int(input(\"ENter The Number to check: \"))\n",
    "if a >= 0:\n",
    "    print(\"The Number is Positive\")\n",
    "elif a<0:\n",
    "    print(\"The Number is Negative\")\n"
   ]
  },
  {
   "cell_type": "markdown",
   "metadata": {},
   "source": [
    "# Write Program to take input marks of 5 subjects and display the grade"
   ]
  },
  {
   "cell_type": "code",
   "execution_count": 7,
   "metadata": {},
   "outputs": [
    {
     "name": "stdout",
     "output_type": "stream",
     "text": [
      "ENter Subject_1:85\n",
      "ENter Subject_1:95\n",
      "ENter Subject_1:99\n",
      "ENter Subject_1:93\n",
      "ENter Subject_1:100\n",
      "AVG:  94.4\n",
      "Grade: A\n"
     ]
    }
   ],
   "source": [
    "sub_1 = int(input(\"ENter Subject_1:\"))\n",
    "sub_2 = int(input(\"ENter Subject_1:\"))\n",
    "sub_3 = int(input(\"ENter Subject_1:\"))\n",
    "sub_4 = int(input(\"ENter Subject_1:\"))\n",
    "sub_5 = int(input(\"ENter Subject_1:\"))\n",
    "\n",
    "avg = (sub_1+sub_2+sub_3+sub_4+sub_5)/5\n",
    "\n",
    "print(\"AVG: \", avg)\n",
    "if(avg>=90):\n",
    "    print(\"Grade: A\")\n",
    "elif(avg>=80):\n",
    "    print(\"Grade: B\")\n",
    "elif(avg>=70):\n",
    "    print(\"Grade: C\")\n",
    "elif(avg>=60):\n",
    "    print(\"Grade: D\")\n",
    "else:\n",
    "     print(\"Grade: F\")\n"
   ]
  },
  {
   "cell_type": "markdown",
   "metadata": {},
   "source": [
    "# Write Program to read two numbers and print Their Quotient and reminder"
   ]
  },
  {
   "cell_type": "code",
   "execution_count": 9,
   "metadata": {},
   "outputs": [
    {
     "name": "stdout",
     "output_type": "stream",
     "text": [
      "Enter N0.1: 2\n",
      "ENter NO.2: 3\n",
      "Quotient: 0 \t Rem: 2\n"
     ]
    }
   ],
   "source": [
    "n1 = int(input(\"Enter N0.1: \"))\n",
    "n2 = int(input(\"ENter NO.2: \"))\n",
    "quo = n1//n2\n",
    "rem = n1%n2\n",
    "print(f\"Quotient: {quo} \\t Rem: {rem}\")"
   ]
  },
  {
   "cell_type": "markdown",
   "metadata": {},
   "source": [
    "# Write Program to Print all integers that are not divisible either 2 or 3 and lie between 1 and 50"
   ]
  },
  {
   "cell_type": "code",
   "execution_count": 11,
   "metadata": {},
   "outputs": [
    {
     "name": "stdout",
     "output_type": "stream",
     "text": [
      "1\n",
      "3\n",
      "5\n",
      "6\n",
      "7\n",
      "9\n",
      "11\n",
      "12\n",
      "13\n",
      "15\n",
      "17\n",
      "18\n",
      "19\n",
      "21\n",
      "23\n",
      "24\n",
      "25\n",
      "27\n",
      "29\n",
      "30\n",
      "31\n",
      "33\n",
      "35\n",
      "36\n",
      "37\n",
      "39\n",
      "41\n",
      "42\n",
      "43\n",
      "45\n",
      "47\n",
      "48\n",
      "49\n"
     ]
    }
   ],
   "source": [
    "for i in range(1,51):\n",
    "    if i%2 != 0 or i%3==0:\n",
    "        print(i)"
   ]
  },
  {
   "cell_type": "markdown",
   "metadata": {},
   "source": [
    "# Write Progran to exchange the value of two Numbers without using temporary variable"
   ]
  },
  {
   "cell_type": "code",
   "execution_count": 17,
   "metadata": {},
   "outputs": [
    {
     "name": "stdout",
     "output_type": "stream",
     "text": [
      "Enter No.1: 2\n",
      "Enter NO.2: 3\n",
      "VALUES before Swapping:\n",
      " a: 2 \t b: 3\n",
      "VALUES After Swapping:\n",
      " a: 3 \t b: 2\n"
     ]
    }
   ],
   "source": [
    "a = int(input(\"Enter No.1: \"))\n",
    "b = int(input(\"Enter NO.2: \"))\n",
    "print(f\"VALUES before Swapping:\\n a: {a} \\t b: {b}\" )\n",
    "a = a+b\n",
    "b = a-b\n",
    "a=a-b\n",
    "print(f\"VALUES After Swapping:\\n a: {a} \\t b: {b}\" )\n"
   ]
  },
  {
   "cell_type": "markdown",
   "metadata": {},
   "source": [
    "# Write Program To find Area of Triangle to Given All Three Sides"
   ]
  },
  {
   "cell_type": "code",
   "execution_count": 26,
   "metadata": {},
   "outputs": [
    {
     "name": "stdout",
     "output_type": "stream",
     "text": [
      "Enter 1st Side: 21\n",
      "Enter 2nd Side: 32\n",
      "Enter 3rd Side: 12\n",
      "Area of Triangle:  61.89\n"
     ]
    }
   ],
   "source": [
    "import math\n",
    "a = int(input(\"Enter 1st Side: \"))\n",
    "b = int(input(\"Enter 2nd Side: \"))\n",
    "c = int(input(\"Enter 3rd Side: \"))\n",
    "s=(a+b+c)/2\n",
    "area=math.sqrt(s*(s-a)*(s-b)*(s-c))\n",
    "print(\"Area of Triangle: \", round(area,2))"
   ]
  },
  {
   "cell_type": "markdown",
   "metadata": {},
   "source": [
    "# Write Program to Print Largest even and largest odd number in a list"
   ]
  },
  {
   "cell_type": "code",
   "execution_count": 18,
   "metadata": {},
   "outputs": [
    {
     "name": "stdout",
     "output_type": "stream",
     "text": [
      "Enter the No. of elements in list: 5\n",
      "Enter Element 1: 21\n",
      "Enter Element 2: 32\n",
      "Enter Element 3: 12\n",
      "Enter Element 4: 44\n",
      "Enter Element 5: 54\n",
      "LArgest Even:  54\n",
      "LArgest Odd:  21\n"
     ]
    }
   ],
   "source": [
    "n = int(input(\"Enter the No. of elements in list: \"))\n",
    "li = []\n",
    "for i in range(1,n+1):\n",
    "    ele =  int(input(f\"Enter Element {i}: \")) \n",
    "    li.append(ele) # Store All the Elements in list\n",
    "largest_even = []\n",
    "largest_odd = []\n",
    "for i in li: #To Check Even ond ODD in List\n",
    "    if (i%2 == 0):\n",
    "        largest_even.append(i)\n",
    "    else:\n",
    "        largest_odd.append(i)\n",
    "largest_even.sort() # Sort The Even number\n",
    "largest_odd.sort() # Sort the Odd numbers\n",
    "c_even = 0 # Counter for Even\n",
    "c_odd = 0 # Counter For ODD\n",
    "for j in largest_even: \n",
    "    c_even = c_even+1\n",
    "for k in largest_odd:\n",
    "    c_odd = c_odd+1\n",
    "print(\"LArgest Even: \" , largest_even[c_even-1])\n",
    "print(\"LArgest Odd: \", largest_odd[c_odd-1])\n"
   ]
  },
  {
   "cell_type": "markdown",
   "metadata": {},
   "source": [
    "# Write Program to find Second Largest Number in a list"
   ]
  },
  {
   "cell_type": "code",
   "execution_count": 17,
   "metadata": {},
   "outputs": [
    {
     "name": "stdout",
     "output_type": "stream",
     "text": [
      "Enter NO. of Elements: 5\n",
      "Enter Element1: 1\n",
      "Enter Element2: 2\n",
      "Enter Element3: 3\n",
      "Enter Element4: 4\n",
      "Enter Element5: 5\n",
      "2nd LAst Element:  4\n"
     ]
    }
   ],
   "source": [
    "n = int(input(\"Enter NO. of Elements: \"))\n",
    "li = []\n",
    "for i in range(1,n+1):\n",
    "    a = int(input(f\"Enter Element{i}: \"))\n",
    "    li.append(a)\n",
    "li.sort()\n",
    "print(\"2nd LAst Element: \", li[n-2])"
   ]
  },
  {
   "cell_type": "markdown",
   "metadata": {},
   "source": [
    "# Write Program to find the union of two lists"
   ]
  },
  {
   "cell_type": "code",
   "execution_count": 1,
   "metadata": {},
   "outputs": [
    {
     "name": "stdout",
     "output_type": "stream",
     "text": [
      "Enter The Total Length of the List_1: 5\n",
      "Enter List_1 Element 1: 21\n",
      "Enter List_1 Element 2: 23\n",
      "Enter List_1 Element 3: 12\n",
      "Enter List_1 Element 4: 32\n",
      "Enter List_1 Element 5: 44\n",
      "Enter The Total length of list_2: 5\n",
      "Enter List_2 Element5: 21\n",
      "Enter List_2 Element5: 33\n",
      "Enter List_2 Element5: 54\n",
      "Enter List_2 Element5: 12\n",
      "Enter List_2 Element5: 44\n",
      "Union:  [32, 33, 12, 44, 21, 54, 23]\n"
     ]
    }
   ],
   "source": [
    "li_1 = []\n",
    "li_2 = []\n",
    "n_1 = int(input(\"Enter The Total Length of the List_1: \"))\n",
    "for i in range(1,n_1+1):\n",
    "    a = int(input(f\"Enter List_1 Element {i}: \"))\n",
    "    li_1.append(a)\n",
    "n_2 = int(input(\"Enter The Total length of list_2: \"))\n",
    "for j in range(1,n_2+1):\n",
    "    b = int(input(f\"Enter List_2 Element{i}: \"))\n",
    "    li_2.append(b)\n",
    "\n",
    "union = list(set().union(li_1,li_2))\n",
    "print(\"Union: \", union)"
   ]
  },
  {
   "cell_type": "code",
   "execution_count": null,
   "metadata": {},
   "outputs": [],
   "source": []
  },
  {
   "cell_type": "code",
   "execution_count": null,
   "metadata": {},
   "outputs": [],
   "source": []
  }
 ],
 "metadata": {
  "kernelspec": {
   "display_name": "Python 3",
   "language": "python",
   "name": "python3"
  },
  "language_info": {
   "codemirror_mode": {
    "name": "ipython",
    "version": 3
   },
   "file_extension": ".py",
   "mimetype": "text/x-python",
   "name": "python",
   "nbconvert_exporter": "python",
   "pygments_lexer": "ipython3",
   "version": "3.7.3"
  }
 },
 "nbformat": 4,
 "nbformat_minor": 2
}
