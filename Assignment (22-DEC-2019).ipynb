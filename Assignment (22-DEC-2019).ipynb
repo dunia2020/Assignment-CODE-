{
 "cells": [
  {
   "cell_type": "code",
   "execution_count": 36,
   "metadata": {},
   "outputs": [
    {
     "name": "stdout",
     "output_type": "stream",
     "text": [
      "1 3 5 7 \n",
      "Access 1st 1 element of num:  1\n",
      "Access 1st 2 element of num:  3\n",
      "Access 1st 3 element of num:  5\n"
     ]
    }
   ],
   "source": [
    "from array import*\n",
    "\n",
    "num = array('i',[1,3,5,7])\n",
    "for i in num:\n",
    "     print(i, end=' ')\n",
    "print(f\"\\nAccess 1st 1 element of num: \", num[0])\n",
    "print(\"Access 1st 2 element of num: \", num[1])\n",
    "print(\"Access 1st 3 element of num: \", num[2])"
   ]
  },
  {
   "cell_type": "markdown",
   "metadata": {},
   "source": [
    "# program to add a key-value to dictionary"
   ]
  },
  {
   "cell_type": "markdown",
   "metadata": {},
   "source": [
    "### CAse1:"
   ]
  },
  {
   "cell_type": "code",
   "execution_count": 36,
   "metadata": {},
   "outputs": [
    {
     "name": "stdout",
     "output_type": "stream",
     "text": [
      "Enter the key to be added: 12\n",
      "Enter the value to be added: 34\n",
      "Updated dictionary is:\n",
      "{12: 34}\n"
     ]
    }
   ],
   "source": [
    "key = int(input(\"Enter the key to be added: \"))\n",
    "value = int(input(\"Enter the value to be added: \"))\n",
    "x = {}\n",
    "x.update({key:value})\n",
    "print(\"Updated dictionary is:\")\n",
    "print(x)"
   ]
  },
  {
   "cell_type": "markdown",
   "metadata": {},
   "source": [
    "### CAse 2: "
   ]
  },
  {
   "cell_type": "code",
   "execution_count": 35,
   "metadata": {},
   "outputs": [
    {
     "name": "stdout",
     "output_type": "stream",
     "text": [
      "Enter the key to be added: 34\n",
      "Enter the value to be added: 29\n",
      "Updated dictionary is:\n",
      "{34: 29}\n"
     ]
    }
   ],
   "source": [
    "key = int(input(\"Enter the key to be added: \"))\n",
    "value = int(input(\"Enter the value to be added: \"))\n",
    "x = {}\n",
    "x.update({key:value})\n",
    "print(\"Updated dictionary is:\")\n",
    "print(x)"
   ]
  },
  {
   "cell_type": "markdown",
   "metadata": {},
   "source": [
    "# Program to concatenate two dictionaries into one"
   ]
  },
  {
   "cell_type": "code",
   "execution_count": 31,
   "metadata": {},
   "outputs": [
    {
     "name": "stdout",
     "output_type": "stream",
     "text": [
      "{'A': 1, 'C': 3, 'B': 2}\n"
     ]
    }
   ],
   "source": [
    "dict1 = {'A':1, 'C' : 3}\n",
    "dict2 = {'B':2}\n",
    "dict1.update(dict2)\n",
    "print(dict1)"
   ]
  },
  {
   "cell_type": "markdown",
   "metadata": {},
   "source": [
    "# Program to check if a given key exists in Dictionary or NOt"
   ]
  },
  {
   "cell_type": "markdown",
   "metadata": {},
   "source": [
    "# case1:"
   ]
  },
  {
   "cell_type": "code",
   "execution_count": 49,
   "metadata": {},
   "outputs": [
    {
     "name": "stdout",
     "output_type": "stream",
     "text": [
      "Ente the key to check: A\n",
      "Key is Present and the Value is:\n",
      "1\n"
     ]
    }
   ],
   "source": [
    "dict1 = {'A' : 1,'B':2}\n",
    "n = input(\"Ente the key to check: \")\n",
    "if n in dict1.keys():\n",
    "    print(\"Key is Present and the Value is:\")\n",
    "    print(dict1[n])\n",
    "else:\n",
    "    print(\"Key isn't Present!\")"
   ]
  },
  {
   "cell_type": "markdown",
   "metadata": {},
   "source": [
    "# Case 2:"
   ]
  },
  {
   "cell_type": "code",
   "execution_count": 50,
   "metadata": {},
   "outputs": [
    {
     "name": "stdout",
     "output_type": "stream",
     "text": [
      "Ente the key to check: F\n",
      "Key isn't Present!\n"
     ]
    }
   ],
   "source": [
    "dict1 = {'A' : 1,'B':2}\n",
    "n = input(\"Ente the key to check: \")\n",
    "if n in dict1.keys():\n",
    "    print(\"Key is Present and the Value is:\")\n",
    "    print(dict1[n])\n",
    "else:\n",
    "    print(\"Key isn't Present!\")"
   ]
  },
  {
   "cell_type": "markdown",
   "metadata": {},
   "source": [
    "# Program to generate Dictionary that contains number[between 1 and n] in the form (x,x*x)"
   ]
  },
  {
   "cell_type": "markdown",
   "metadata": {},
   "source": [
    "# CAse1:"
   ]
  },
  {
   "cell_type": "code",
   "execution_count": 51,
   "metadata": {},
   "outputs": [
    {
     "name": "stdout",
     "output_type": "stream",
     "text": [
      "Enter a Numbers: 5\n",
      "{1: 1, 2: 4, 3: 9, 4: 16, 5: 25}\n"
     ]
    }
   ],
   "source": [
    "n = int(input(\"Enter a Numbers: \"))\n",
    "d = {x:x*x for x in range(1,n+1)}\n",
    "print(d)"
   ]
  },
  {
   "cell_type": "markdown",
   "metadata": {},
   "source": [
    "# Case2: "
   ]
  },
  {
   "cell_type": "code",
   "execution_count": 52,
   "metadata": {},
   "outputs": [
    {
     "name": "stdout",
     "output_type": "stream",
     "text": [
      "Enter a Numbers: 19\n",
      "{1: 1, 2: 4, 3: 9, 4: 16, 5: 25, 6: 36, 7: 49, 8: 64, 9: 81, 10: 100, 11: 121, 12: 144, 13: 169, 14: 196, 15: 225, 16: 256, 17: 289, 18: 324, 19: 361}\n"
     ]
    }
   ],
   "source": [
    "n = int(input(\"Enter a Numbers: \"))\n",
    "d = {x:x*x for x in range(1,n+1)}\n",
    "print(d)"
   ]
  },
  {
   "cell_type": "markdown",
   "metadata": {},
   "source": [
    "# Program to Sum All items in Dictionary"
   ]
  },
  {
   "cell_type": "code",
   "execution_count": 54,
   "metadata": {},
   "outputs": [
    {
     "name": "stdout",
     "output_type": "stream",
     "text": [
      "Total Sum of values in Dictionary:\n",
      "125\n"
     ]
    }
   ],
   "source": [
    "d = {'A':100, 'B':12, 'C':13}\n",
    "print(\"Total Sum of values in Dictionary:\")\n",
    "print(sum(d.values()))"
   ]
  },
  {
   "cell_type": "markdown",
   "metadata": {},
   "source": [
    "# Program to Multiply All items in Dictionary"
   ]
  },
  {
   "cell_type": "code",
   "execution_count": 61,
   "metadata": {},
   "outputs": [
    {
     "name": "stdout",
     "output_type": "stream",
     "text": [
      "23900\n"
     ]
    }
   ],
   "source": [
    "dict1 = {'A':10,'B':10,'C':239}\n",
    "total = 1\n",
    "for i in dict1:\n",
    "    total = total*dict1[i]\n",
    "print(total)\n",
    "   # print(dict1[i])\n",
    "    "
   ]
  },
  {
   "cell_type": "markdown",
   "metadata": {},
   "source": [
    "# Program to remove given key in dictionary"
   ]
  },
  {
   "cell_type": "markdown",
   "metadata": {},
   "source": [
    "# Case1:"
   ]
  },
  {
   "cell_type": "code",
   "execution_count": 6,
   "metadata": {},
   "outputs": [
    {
     "name": "stdout",
     "output_type": "stream",
     "text": [
      "Enter the key to delete(a-d): c\n",
      "Updated dictionary:\n",
      "{'a': 1, 'b': 2, 'd': 4}\n"
     ]
    }
   ],
   "source": [
    "dict1 = {'a':1,'c':3,'b':2,'d':4}\n",
    "n = input(\"Enter the key to delete(a-d): \")\n",
    "if n in dict1:\n",
    "    del dict1[n]\n",
    "    print(\"Updated dictionary:\")\n",
    "    print(dict1)\n",
    "else:\n",
    "    print(\"Key NOt found!\")\n"
   ]
  },
  {
   "cell_type": "markdown",
   "metadata": {},
   "source": [
    "# Case2:"
   ]
  },
  {
   "cell_type": "code",
   "execution_count": 7,
   "metadata": {},
   "outputs": [
    {
     "name": "stdout",
     "output_type": "stream",
     "text": [
      "Enter the key to delete(a-d): g\n",
      "Key NOt found!\n"
     ]
    }
   ],
   "source": [
    "dict1 = {'a':1,'c':3,'b':2,'d':4}\n",
    "n = input(\"Enter the key to delete(a-d): \")\n",
    "if n in dict1:\n",
    "    del dict1[n]\n",
    "    print(\"Updated dictionary:\")\n",
    "    print(dict1)\n",
    "else:\n",
    "    print(\"Key NOt found!\")\n"
   ]
  },
  {
   "cell_type": "markdown",
   "metadata": {},
   "source": [
    "# Program to map iwp lists into a dictionary"
   ]
  },
  {
   "cell_type": "code",
   "execution_count": 18,
   "metadata": {},
   "outputs": [
    {
     "name": "stdout",
     "output_type": "stream",
     "text": [
      "Enter numbers of elements for dictionary: 3\n",
      "For keys\n",
      "Enter Element 1: 1\n",
      "Enter Element 2: 2\n",
      "Enter Element 3: 3\n",
      "For Values\n",
      "Enter Element 1: 1\n",
      "Enter Element 2: 4\n",
      "Enter Element 3: 9\n",
      "The Dictionary is:\n",
      "{1: 1, 2: 4, 3: 9}\n"
     ]
    }
   ],
   "source": [
    "keys=[]\n",
    "values= []\n",
    "n = int(input(\"Enter numbers of elements for dictionary: \"))\n",
    "print(\"For keys\")\n",
    "for i in range(0,n):\n",
    "    key = int(input(\"Enter Element \" +str(i+1) +\": \"))\n",
    "    keys.append(key)\n",
    "print(\"For Values\")\n",
    "for i in range(0,n):\n",
    "    val = int(input(\"Enter Element \" +str(i+1) +\": \"))\n",
    "    values.append(val)\n",
    "\n",
    "d = dict(zip(keys,values))\n",
    "print(\"The Dictionary is:\")\n",
    "print(d)"
   ]
  },
  {
   "cell_type": "markdown",
   "metadata": {},
   "source": [
    "# Program to count the frequency of word appearing in String using Dictionary"
   ]
  },
  {
   "cell_type": "code",
   "execution_count": 22,
   "metadata": {},
   "outputs": [
    {
     "name": "stdout",
     "output_type": "stream",
     "text": [
      "Enter String Input: hello world program world test\n",
      "{'hello': 1, 'world': 2, 'program': 1, 'test': 1}\n"
     ]
    }
   ],
   "source": [
    "String = input(\"Enter String Input: \")\n",
    "list_var = []\n",
    "list_var = String.split()\n",
    "freq_count = [list_var.count(i) for i in list_var]\n",
    "print(dict(zip(list_var,freq_count)))\n"
   ]
  },
  {
   "cell_type": "markdown",
   "metadata": {},
   "source": [
    "# Create Dictionary with key as first Character and values as words Starting with that character"
   ]
  },
  {
   "cell_type": "code",
   "execution_count": 9,
   "metadata": {},
   "outputs": [
    {
     "name": "stdout",
     "output_type": "stream",
     "text": [
      "Enter String: hell word\n",
      "h : ['hell']\n",
      "w : ['word']\n"
     ]
    }
   ],
   "source": [
    "String = input('Enter String: ')\n",
    "d = {}\n",
    "list_word = String.split()\n",
    "for word in list_word:\n",
    "    if (word[0] not in d.keys()):\n",
    "        d[word[0]] = []\n",
    "        d[word[0]].append(word)\n",
    "    elif (word not in d[word[0]]):\n",
    "          d[word[0]].append(word)\n",
    "for i,j in d.items():\n",
    "        print(i,\":\",j)"
   ]
  },
  {
   "cell_type": "code",
   "execution_count": null,
   "metadata": {},
   "outputs": [],
   "source": []
  },
  {
   "cell_type": "code",
   "execution_count": null,
   "metadata": {},
   "outputs": [],
   "source": []
  }
 ],
 "metadata": {
  "kernelspec": {
   "display_name": "Python 3",
   "language": "python",
   "name": "python3"
  },
  "language_info": {
   "codemirror_mode": {
    "name": "ipython",
    "version": 3
   },
   "file_extension": ".py",
   "mimetype": "text/x-python",
   "name": "python",
   "nbconvert_exporter": "python",
   "pygments_lexer": "ipython3",
   "version": "3.7.3"
  }
 },
 "nbformat": 4,
 "nbformat_minor": 2
}
