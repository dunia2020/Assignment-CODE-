{
 "cells": [
  {
   "cell_type": "markdown",
   "metadata": {},
   "source": [
    "# OFFICIAL_AAssignment_02"
   ]
  },
  {
   "cell_type": "markdown",
   "metadata": {},
   "source": [
    "# Question_01: Solve Incient Chinese puzle"
   ]
  },
  {
   "cell_type": "code",
   "execution_count": 2,
   "metadata": {},
   "outputs": [
    {
     "name": "stdout",
     "output_type": "stream",
     "text": [
      "(23, 12)\n"
     ]
    }
   ],
   "source": [
    "def solve(heads,legs):\n",
    "    for i in range(heads+1):\n",
    "        j=heads-i\n",
    "        if (2*i)+(4*j)==legs:\n",
    "            return i,j\n",
    "    return ns,ns\n",
    "\n",
    "\n",
    "numheads=35\n",
    "numlegs=94\n",
    "solutions=solve(numheads,numlegs)\n",
    "print (solutions)\n"
   ]
  },
  {
   "cell_type": "markdown",
   "metadata": {},
   "source": [
    "# Question_02: Program that accept string and print characte that have even indexes"
   ]
  },
  {
   "cell_type": "code",
   "execution_count": 1,
   "metadata": {},
   "outputs": [
    {
     "name": "stdout",
     "output_type": "stream",
     "text": [
      "Enter stringH1e2l3l4o5w6o7r8l9d\n",
      "Helloworld\n"
     ]
    }
   ],
   "source": [
    "string = input(\"Enter string\")\n",
    "print(string[::2])"
   ]
  },
  {
   "cell_type": "markdown",
   "metadata": {},
   "source": [
    "# Question_03: Program that accept string and reverse it"
   ]
  },
  {
   "cell_type": "code",
   "execution_count": 2,
   "metadata": {},
   "outputs": [
    {
     "name": "stdout",
     "output_type": "stream",
     "text": [
      "Enter stringrise to vote sir\n",
      "ris etov ot esir\n"
     ]
    }
   ],
   "source": [
    "string = input(\"Enter string\")\n",
    "print(string[::-1])"
   ]
  },
  {
   "cell_type": "markdown",
   "metadata": {},
   "source": [
    "# Question_04: Program which count number of each character"
   ]
  },
  {
   "cell_type": "code",
   "execution_count": 23,
   "metadata": {},
   "outputs": [
    {
     "name": "stdout",
     "output_type": "stream",
     "text": [
      "{'a': 2, 'b': 2, 'c': 2, 'd': 1, 'e': 1, 'f': 1, 'g': 1}\n"
     ]
    }
   ],
   "source": [
    "def char_frequency(str1):\n",
    "    dict = {}\n",
    "    for n in str1:\n",
    "        keys = dict.keys()\n",
    "        if n in keys:\n",
    "            dict[n] += 1\n",
    "        else:\n",
    "            dict[n] = 1\n",
    "    return dict\n",
    "\n",
    "s =\"abcdefgabc\"\n",
    "a = {}\n",
    "a = char_frequency(s)\n",
    "a.get(2)\n",
    "print(a)"
   ]
  },
  {
   "cell_type": "markdown",
   "metadata": {},
   "source": [
    "# Question_05: Define class name shape and inherit sub class square"
   ]
  },
  {
   "cell_type": "code",
   "execution_count": 55,
   "metadata": {},
   "outputs": [
    {
     "data": {
      "text/plain": [
       "4"
      ]
     },
     "execution_count": 55,
     "metadata": {},
     "output_type": "execute_result"
    }
   ],
   "source": [
    "class Shape:\n",
    "    def __init__(self, length, width):\n",
    "        self.length = length\n",
    "        self.width = width\n",
    "\n",
    "    def area(self):\n",
    "        return self.length * self.width\n",
    "\n",
    "    \n",
    "class Square(Shape):\n",
    "    def __init__(self, length):\n",
    "        super().__init__(length, length)\n",
    "        \n",
    "square = Square(2)\n",
    "square.area()"
   ]
  },
  {
   "cell_type": "markdown",
   "metadata": {},
   "source": [
    "# Question_06: Compute 5/0 by using try/except"
   ]
  },
  {
   "cell_type": "code",
   "execution_count": 57,
   "metadata": {},
   "outputs": [
    {
     "name": "stdout",
     "output_type": "stream",
     "text": [
      "zero cant be divide to any number\n"
     ]
    }
   ],
   "source": [
    "a = 5\n",
    "b = 0\n",
    "try:\n",
    "    ans = a/b\n",
    "except:\n",
    "    print(\"zero cant be divide to any number\")"
   ]
  },
  {
   "cell_type": "markdown",
   "metadata": {},
   "source": [
    "# Question_07: get user name from email address"
   ]
  },
  {
   "cell_type": "code",
   "execution_count": 26,
   "metadata": {},
   "outputs": [
    {
     "name": "stdout",
     "output_type": "stream",
     "text": [
      "Enter Email Address: john@google.com\n",
      "['john']\n"
     ]
    }
   ],
   "source": [
    "import re\n",
    "email = input(\"Enter Email Address: \")\n",
    "user_name = re.findall(r\"^\\w+\",email)\n",
    "print(user_name)"
   ]
  },
  {
   "cell_type": "markdown",
   "metadata": {},
   "source": [
    "# Question_08: Diplay Digits from String"
   ]
  },
  {
   "cell_type": "code",
   "execution_count": 27,
   "metadata": {},
   "outputs": [
    {
     "name": "stdout",
     "output_type": "stream",
     "text": [
      "Enter String: 2 cats 3 dogs\n",
      "['2', '3']\n"
     ]
    }
   ],
   "source": [
    "import re\n",
    "\n",
    "string = input(\"Enter String: \")\n",
    "digits = re.findall('[0-9]+', string)\n",
    "print(digits)"
   ]
  },
  {
   "cell_type": "markdown",
   "metadata": {},
   "source": [
    "# Question_09: compute 1/2+2/3+3/4 .... n/n+1 in float"
   ]
  },
  {
   "cell_type": "code",
   "execution_count": 1,
   "metadata": {},
   "outputs": [
    {
     "name": "stdout",
     "output_type": "stream",
     "text": [
      "Enter your n number to be compute: 5\n",
      "3.5500000000000003\n"
     ]
    }
   ],
   "source": [
    "n = int(input(\"Enter your n number to be compute: \"))\n",
    "n1=0\n",
    "for i in range(1,n+1):\n",
    "    n1 += float(float(i)/(i+1))\n",
    "print(n1)\n"
   ]
  },
  {
   "cell_type": "markdown",
   "metadata": {},
   "source": [
    "# Question_10: Program to compute f(n) = f(n-1)+100"
   ]
  },
  {
   "cell_type": "code",
   "execution_count": 5,
   "metadata": {},
   "outputs": [
    {
     "name": "stdout",
     "output_type": "stream",
     "text": [
      "Enter Value of n: 5\n",
      "500\n"
     ]
    }
   ],
   "source": [
    "def f(n):\n",
    "    if n==0:\n",
    "        return 0\n",
    "    else:\n",
    "        return f(n-1)+100\n",
    "\n",
    "n=int(input(\"Enter Value of n: \"))\n",
    "print(f(n))"
   ]
  },
  {
   "cell_type": "markdown",
   "metadata": {},
   "source": [
    "# Question_11: A website Following criteria,,,,\n",
    "        1. alphabet[a-z]\n",
    "        \n",
    "        2. alphabet[A-Z]\n",
    "        \n",
    "        3. numberic[0-9]\n",
    "        \n",
    "        3. special[@#$]\n",
    "        \n",
    "        4. comma sperated output           \n",
    "        \n"
   ]
  },
  {
   "cell_type": "code",
   "execution_count": 2,
   "metadata": {},
   "outputs": [
    {
     "name": "stdout",
     "output_type": "stream",
     "text": [
      "Enter Password: aBd1234@1,a F1#\n",
      "Valid Password\n",
      "aBd1234@1\n"
     ]
    }
   ],
   "source": [
    "import re\n",
    "password = input(\"Enter Password: \")\n",
    "flag = 0\n",
    "while True:\n",
    "    if (len(password)>6):\n",
    "        if not re.search(\"[0-9]\",password):\n",
    "            flag = -1\n",
    "            break\n",
    "        elif not re.search(\"[a-z]\",password):\n",
    "            flag = -1\n",
    "            break\n",
    "        elif not re.search(\"[A-Z]\",password):\n",
    "            flag = -1\n",
    "            break\n",
    "        elif not re.search(\"[$#@]\",password):\n",
    "            flag = -1\n",
    "            break\n",
    "        else:\n",
    "            flag = 0 \n",
    "            print(\"Valid Password\")\n",
    "            break\n",
    "    else:\n",
    "        print(\"Length error\")\n",
    "        flag = -1\n",
    "        break\n",
    "                \n",
    "\n",
    "if flag == -1:\n",
    "    print(\"Invalid passowrd...Somthing is missing\")\n",
    "    \n",
    "elif flag == 0:\n",
    "    psd = password.split(\",\")[0]\n",
    "    print(psd)\n",
    "    \n"
   ]
  },
  {
   "cell_type": "markdown",
   "metadata": {},
   "source": [
    "# Question_12: Sort Name,age,height on the bases:\n",
    "    1. sort by name\n",
    "    \n",
    "    2. sort by age\n",
    "    \n",
    "    3. sort by score\n",
    "    \n",
    "    priority = name > age > score"
   ]
  },
  {
   "cell_type": "code",
   "execution_count": 3,
   "metadata": {},
   "outputs": [
    {
     "name": "stdout",
     "output_type": "stream",
     "text": [
      "Tom,19,80\n",
      "John,20,90\n",
      "Jony,17,91\n",
      "Jsony,17,93\n",
      "Json,21,85\n",
      "\n",
      "[('John', '20', '90'), ('Jony', '17', '91'), ('Json', '21', '85'), ('Jsony', '17', '93'), ('Tom', '19', '80')]\n"
     ]
    }
   ],
   "source": [
    "from operator import itemgetter, attrgetter\n",
    "l = []\n",
    "while True:\n",
    "    s = input()\n",
    "    if not s:\n",
    "        break\n",
    "    l.append(tuple(s.split(\",\")))\n",
    "\n",
    "print (sorted(l, key=itemgetter(0,1,2)))\n"
   ]
  },
  {
   "cell_type": "markdown",
   "metadata": {},
   "source": [
    "# Question_13: Generator class that are divisible by 7 from 0 and n"
   ]
  },
  {
   "cell_type": "code",
   "execution_count": 33,
   "metadata": {},
   "outputs": [
    {
     "name": "stdout",
     "output_type": "stream",
     "text": [
      "Enter value of n: 100\n",
      "[7, 14, 21, 28, 35, 42, 49, 56, 63, 70, 77, 84, 91, 98]\n"
     ]
    }
   ],
   "source": [
    "class Generator:\n",
    "    def __init__(self,n):\n",
    "        self.num = n\n",
    "    \n",
    "    def iterating(self):\n",
    "        for i in range(1,self.num):\n",
    "            if i%7 == 0:\n",
    "                yield i\n",
    "\n",
    "number = int(input(\"Enter value of n: \"))                \n",
    "gen = Generator(number)\n",
    "print(list(gen.iterating()))"
   ]
  },
  {
   "cell_type": "markdown",
   "metadata": {},
   "source": [
    "# Question_14: Trace The Movement of ROBOT"
   ]
  },
  {
   "cell_type": "code",
   "execution_count": 45,
   "metadata": {},
   "outputs": [
    {
     "name": "stdout",
     "output_type": "stream",
     "text": [
      "Enter Steps:     UP 5\n",
      "Enter Steps:     DOWN 3\n",
      "Enter Steps:     LEFT 3\n",
      "Enter Steps:     RIGHT 2\n",
      "Enter Steps:     \n",
      "2\n"
     ]
    }
   ],
   "source": [
    "import math\n",
    "pos = [0,0]\n",
    "while True:\n",
    "    s = (input(\"Enter Steps:     \"))\n",
    "    if not s:\n",
    "        break\n",
    "    movement = s.split(\" \")\n",
    "    direction = movement[0]\n",
    "    steps = int(movement[1])\n",
    "    if direction==\"UP\":\n",
    "        pos[0]+=steps\n",
    "    elif direction==\"DOWN\":\n",
    "        pos[0]-=steps\n",
    "    elif direction==\"LEFT\":\n",
    "        pos[1]-=steps\n",
    "    elif direction==\"RIGHT\":\n",
    "        pos[1]+=steps\n",
    "    else:\n",
    "        pass\n",
    "print(round(math.sqrt(pos[1]**2+pos[0]**2)))"
   ]
  },
  {
   "cell_type": "code",
   "execution_count": null,
   "metadata": {},
   "outputs": [],
   "source": []
  }
 ],
 "metadata": {
  "kernelspec": {
   "display_name": "Python 3",
   "language": "python",
   "name": "python3"
  },
  "language_info": {
   "codemirror_mode": {
    "name": "ipython",
    "version": 3
   },
   "file_extension": ".py",
   "mimetype": "text/x-python",
   "name": "python",
   "nbconvert_exporter": "python",
   "pygments_lexer": "ipython3",
   "version": "3.7.3"
  }
 },
 "nbformat": 4,
 "nbformat_minor": 2
}
