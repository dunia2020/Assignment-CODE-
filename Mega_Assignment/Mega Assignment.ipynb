{
 "cells": [
  {
   "cell_type": "markdown",
   "metadata": {},
   "source": [
    "#                  \\\\\\\\.....  MEGA Assignment _BY_K.A.H .... \\\\\\\\"
   ]
  },
  {
   "cell_type": "markdown",
   "metadata": {},
   "source": [
    "# Q1:Which of the following terms are related to dictionaries? \n",
    "    a. value \n",
    "    b. item \n",
    "    c. index \n",
    "    d. key\n",
    "  \n",
    " ### Answer:   a(Value) , b(item), d(Key)\n",
    "  \n",
    "    "
   ]
  },
  {
   "cell_type": "markdown",
   "metadata": {},
   "source": [
    "# Q2: Just like lists, + operator is used to extend dictionaries? \n",
    "   a. True \n",
    "   \n",
    "   b. False \n",
    "    \n",
    "### Answer: False"
   ]
  },
  {
   "cell_type": "markdown",
   "metadata": {},
   "source": [
    "# Q3: To access items from a dictionary, we specify the index of that item within [] like myDict[0]? \n",
    " a. True \n",
    " \n",
    " b. False \n",
    "\n",
    "### Answer: b (False)"
   ]
  },
  {
   "cell_type": "markdown",
   "metadata": {},
   "source": [
    "# Q4:When we use [] to access the value from a dictionary which does not exist in that dictionary….?\n",
    "a. Value within [] is added to the dictionary \n",
    "\n",
    "b. Value None is returned\n",
    "\n",
    "c. New dictionary is created \n",
    "\n",
    "d. None of above \n",
    "\n",
    "### Answer: a "
   ]
  },
  {
   "cell_type": "markdown",
   "metadata": {},
   "source": [
    "# Q5: What does return the pop method of a dictionary? \n",
    "a. list \n",
    "\n",
    "b. tuple containing the pair of last item of the dictionary \n",
    "\n",
    "c. dictionary \n",
    "\n",
    "d. value of the key, if it exists in the dictionary \n",
    "\n",
    "### Answer: d"
   ]
  },
  {
   "cell_type": "markdown",
   "metadata": {},
   "source": [
    "# Q6: What does return popitem method return? \n",
    "a. dictionary\n",
    "\n",
    "b. tupple containing the pair of last item of the dictionary\n",
    "\n",
    "c. list\n",
    "\n",
    "d. value of key, if it exists in the dictionary\n",
    "\n",
    "### Answer: b"
   ]
  },
  {
   "cell_type": "markdown",
   "metadata": {},
   "source": [
    "# Q7: Which of the following 2 methods can be used to iterate through the items of a dictionary? \n",
    "a. items()\n",
    "\n",
    "b. values()\n",
    "\n",
    "c. indexes() \n",
    "\n",
    "d. keys() \n",
    "\n",
    "### Answer: b , d"
   ]
  },
  {
   "cell_type": "markdown",
   "metadata": {},
   "source": [
    "# Q8: Which one of the following is used to enclose a dictionary?\n",
    "    a. () parenthesis\n",
    "    \n",
    "    b. {} curly brackets\n",
    "    \n",
    "    c. [] square brackets \n",
    "    \n",
    "    d. “” quotation marks\n",
    "    \n",
    " ### Answer: b   "
   ]
  },
  {
   "cell_type": "markdown",
   "metadata": {},
   "source": [
    "## Q9:  Write Python Program add key-value pair in dictionary and check if a Given Key or Value or Both Exists in a Dictionary or Not. "
   ]
  },
  {
   "cell_type": "code",
   "execution_count": 33,
   "metadata": {},
   "outputs": [
    {
     "name": "stdout",
     "output_type": "stream",
     "text": [
      "Enter Key in Dictioanry: 1\n",
      "Enter Value in Dictionary: 2\n",
      "\n",
      "Dictionary:  {'1': '2'}\n",
      "Enter the key/Value to check: 1\n",
      "KEY:  1\n",
      "\n",
      "Found as Key and the Value is:\n",
      "dict_values(['2'])\n"
     ]
    }
   ],
   "source": [
    "key = input(\"Enter Key in Dictioanry: \")\n",
    "value = input(\"Enter Value in Dictionary: \")\n",
    "\n",
    "Dictionary = {}\n",
    "\n",
    "Dictionary.update({key:value})\n",
    "print(\"\\nDictionary: \" , Dictionary)\n",
    "\n",
    "chk_key_val = input(\"Enter the key/Value to check: \")\n",
    "print(\"KEY: \", chk_key_val)\n",
    "\n",
    "if chk_key_val in Dictionary.keys():\n",
    "    print(\"\\nFound as Key and the Value is:\")\n",
    "    print(Dictionary.values())\n",
    "elif chk_key_val in Dictionary.values():\n",
    "    print(\"Found as Vlaue and Key is: \")\n",
    "    print(Dictionary.keys())\n",
    "else:\n",
    "    print(\"\\nNot Found\")"
   ]
  },
  {
   "cell_type": "markdown",
   "metadata": {},
   "source": [
    "## Q10: Write a Python Program to Count the Frequency of Words Appearing in a String Using a Dictionary and print only the words having Even (divisible by 2) frequency"
   ]
  },
  {
   "cell_type": "code",
   "execution_count": 42,
   "metadata": {},
   "outputs": [
    {
     "name": "stdout",
     "output_type": "stream",
     "text": [
      "Enter String Input: world hellow worlds world\n",
      "{'world': 2, 'hellow': 1, 'worlds': 1}\n"
     ]
    }
   ],
   "source": [
    " String = input(\"Enter String Input: \")\n",
    "list_var = []\n",
    "list_var = String.split()\n",
    "freq_count = [list_var.count(i) for i in list_var]\n",
    "print(dict(zip(list_var,freq_count)))\n",
    "\n",
    "# i count the frequency of words but don't understand how to get it even frequency"
   ]
  },
  {
   "cell_type": "markdown",
   "metadata": {},
   "source": [
    "# Q11: X = [\"Feb\", Apr, Mar, May, Jun, Jul, Aug, Jan]. What will be output of following? \n",
    "    X[0:3] \n",
    "    \n",
    "    X[2:8] \n",
    "    \n",
    "    X[4:9] \n",
    "    \n",
    "    X[1:7:2] \n",
    "    \n",
    "    X[-1:-7] \n",
    "    \n",
    "    X[-7:7] \n",
    "    \n",
    "    X[-1:-8:-2] \n",
    "    \n",
    "    X[:4] \n",
    "    \n",
    "  ### Answer: X[2:8]   "
   ]
  },
  {
   "cell_type": "markdown",
   "metadata": {},
   "source": [
    "# Q12: Remove the correct number from the list X \n",
    "X = [ 9,2,8,4,5] \n",
    "X__?__ \n",
    "print (X) \n",
    "Output: [2,8,4,5] \n",
    "\n",
    "1) .delete(9) \n",
    "\n",
    "2) .rm(9) 3) \n",
    "\n",
    ".remove(9) \n",
    "\n",
    "### Answer: .remove(9)"
   ]
  },
  {
   "cell_type": "markdown",
   "metadata": {},
   "source": [
    "# Q13: p = 3 \n",
    "      q = 'hello! ' \n",
    "      print( q __?__ p)  \n",
    "      hello! hello! hello! \n",
    "      1) * \n",
    "      2) ** \n",
    "      3) + \n",
    "### Answer: 3(+)        "
   ]
  },
  {
   "cell_type": "markdown",
   "metadata": {},
   "source": [
    "# Q14  y = \"this is a random sentence\" \n",
    "print (y__?__) \n",
    "Output: THIS IS A RANDOM SENTENCE \n",
    "1) .upper() \n",
    "\n",
    "2) .upcase() \n",
    "\n",
    "3) .capitalize() \n",
    "\n",
    "### Answer: 1(.upper())"
   ]
  },
  {
   "cell_type": "markdown",
   "metadata": {},
   "source": [
    "# Q15: p = True \n",
    "       q = ‘True’ \n",
    "       r = 2 \n",
    "       r = 2.0 \n",
    "### print(type(p)) \n",
    "### print(type(q)) \n",
    "### print(type(r)) \n",
    "### print(type(s)) "
   ]
  },
  {
   "cell_type": "code",
   "execution_count": 48,
   "metadata": {},
   "outputs": [
    {
     "name": "stdout",
     "output_type": "stream",
     "text": [
      "<class 'bool'>\n",
      "<class 'str'>\n",
      "<class 'int'>\n",
      "<class 'float'>\n"
     ]
    }
   ],
   "source": [
    "p = True\n",
    "q = 'True'\n",
    "r = 2\n",
    "s = 2.0\n",
    "\n",
    "print(type(p))\n",
    "print(type(q))\n",
    "print(type(r))\n",
    "print(type(s))"
   ]
  },
  {
   "cell_type": "markdown",
   "metadata": {},
   "source": [
    "# Q16: What are the optional arguments to the function? \n",
    "function_1(R1, q, p=None, R2= None) \n",
    "1) q and R2 \n",
    "\n",
    "2) p and R2 \n",
    "\n",
    "3) p and R1 \n",
    "\n",
    "4) R1 and q \n",
    "\n",
    "### Answer: 2(p and R2)"
   ]
  },
  {
   "cell_type": "markdown",
   "metadata": {},
   "source": [
    "# Q17: Which command invokes method X() of the object p? \n",
    "1) X(p) \n",
    "\n",
    "2) p$x() \n",
    "\n",
    "3) X().p \n",
    "\n",
    "4) p.x() \n",
    "\n",
    "### ANswer: 4(p.x())"
   ]
  },
  {
   "cell_type": "markdown",
   "metadata": {},
   "source": [
    "# Q18: X=4 , Y= 2 \n",
    "print(X % Y) \n",
    "\n",
    "print(X / Y) \n",
    "\n",
    "print(X // Y) \n",
    "\n",
    "print(Y % X) "
   ]
  },
  {
   "cell_type": "code",
   "execution_count": 52,
   "metadata": {},
   "outputs": [
    {
     "name": "stdout",
     "output_type": "stream",
     "text": [
      "0\n",
      "2.0\n",
      "2\n",
      "2\n"
     ]
    }
   ],
   "source": [
    "X=4 \n",
    "Y= 2 \n",
    "print(X % Y) \n",
    "print(X / Y) \n",
    "print(X // Y) \n",
    "print(Y % X) "
   ]
  },
  {
   "cell_type": "markdown",
   "metadata": {},
   "source": [
    "# Q19: x = [[4, 1, 1], [5, 9, 0]] \n",
    " for i in __?__: \n",
    " \n",
    "     for j in  __?__: \n",
    " \n",
    " ? \n",
    " \n",
    " Output: \n",
    "  \n",
    "   4 \n",
    " \n",
    "   1 \n",
    "   \n",
    "   1 \n",
    "   \n",
    "   5 \n",
    "   \n",
    "   9 \n",
    "   \n",
    "   0 \n",
    "\n",
    "x = [[4, 1, 1], [5, 9, 0]] \n",
    " \n",
    " for i in __?__: \n",
    " \n",
    "     for j in  __?__: \n",
    " \n",
    " ? \n",
    " \n",
    " Output: \n",
    "   \n",
    "   4 5 \n",
    " \n",
    "   1 9 \n",
    "   \n",
    "   1 0 \n",
    "   \n",
    "x = [[4, 1, 1], [5, 9, 0]] \n",
    "\n",
    "for i in __?__: \n",
    "\n",
    "    for j in  __?__: \n",
    "\n",
    "    ? \n",
    "    Output:  4 1 1 5 9 0 \n",
    "\n",
    "x = [[4, 1, 1], [5, 9, 0]] \n",
    "\n",
    "for i in __?__: \n",
    "\n",
    "    for j in  __?__: \n",
    "    \n",
    "    ? \n",
    " Output:  \n",
    "      \n",
    "         4 1 1 \n",
    " \n",
    "         5 9 0 "
   ]
  },
  {
   "cell_type": "code",
   "execution_count": 152,
   "metadata": {},
   "outputs": [
    {
     "name": "stdout",
     "output_type": "stream",
     "text": [
      "4\n",
      "\n",
      "1\n",
      "\n",
      "1\n",
      "\n",
      "5\n",
      "\n",
      "9\n",
      "\n",
      "0\n",
      "\n"
     ]
    }
   ],
   "source": [
    "x = [[4,1,1],[5,9,0]]\n",
    "\n",
    "for i in range(len(x)) :  \n",
    "    for j in range(len(x[i])) :  \n",
    "        print(x[i][j], end=\"\\n\") \n",
    "        print(\"\")"
   ]
  },
  {
   "cell_type": "code",
   "execution_count": 221,
   "metadata": {},
   "outputs": [
    {
     "name": "stdout",
     "output_type": "stream",
     "text": [
      "\t\n",
      "[[4 5]\n",
      " [1 9]\n",
      " [1 0]]\n"
     ]
    }
   ],
   "source": [
    "import numpy\n",
    "x = [[4,1,1],[5,9,0]]\n",
    "\n",
    "for i in range(1) : \n",
    "    print(\"\\t\")\n",
    "    for j in range(1) :  \n",
    "        print(numpy.transpose(x))"
   ]
  },
  {
   "cell_type": "code",
   "execution_count": 234,
   "metadata": {},
   "outputs": [
    {
     "name": "stdout",
     "output_type": "stream",
     "text": [
      "4 1 1 5 9 0 "
     ]
    }
   ],
   "source": [
    "x = [[4,1,1],[5,9,0]]\n",
    "\n",
    "for i in range(len(x)) : \n",
    "    for j in range(len(x[i])) :  \n",
    "        print(x[i][j], end=\" \") \n",
    "        "
   ]
  },
  {
   "cell_type": "code",
   "execution_count": 174,
   "metadata": {},
   "outputs": [
    {
     "name": "stdout",
     "output_type": "stream",
     "text": [
      "\n",
      "\n",
      "4 1 1 \n",
      "\n",
      "5 9 0 "
     ]
    }
   ],
   "source": [
    "x = [[4,1,1],[5,9,0]]\n",
    "\n",
    "for i in range(len(x)) : \n",
    "    print(\"\\n\")\n",
    "    for j in range(len(x[i])) :  \n",
    "        print(x[i][j], end=\" \") \n",
    "       "
   ]
  },
  {
   "cell_type": "markdown",
   "metadata": {},
   "source": [
    "# Q20: q = [10.62, 16.14, 6.45, 17.11] \n",
    " \n",
    "for __?__, z in enumerate (q) : \n",
    "\n",
    "    print( ‘Item ‘ + str( j ) + ‘  - ‘, str ( z )) \n",
    " \n",
    "Output:  Item 0 – 10.62 \n",
    "\n",
    "    Item 1 – 16.14 \n",
    "   \n",
    "    Item 2 – 6.45 \n",
    "   \n",
    "    Item 3 – 17.11 \n",
    "\n",
    "    1) z \n",
    "\n",
    "    2) i \n",
    "\n",
    "    3) j \n",
    "\n",
    "    4) x \n",
    "\n",
    "    5) k \n",
    "\n",
    "    6) y \n",
    "   \n",
    "  ### Solution: 3(j) \n"
   ]
  },
  {
   "cell_type": "markdown",
   "metadata": {},
   "source": [
    "# Q21:Which of these about a dictionary is false? \n",
    "a) The values of a dictionary can be accessed using keys \n",
    "\n",
    "b) The keys of a dictionary can be accessed using values \n",
    "\n",
    "c) Dictionaries aren’t ordered \n",
    "\n",
    "d) Dictionaries are mutable\n",
    "\n",
    "### Solution: b"
   ]
  },
  {
   "cell_type": "markdown",
   "metadata": {},
   "source": [
    "# Q22: What is the output of the following: \n",
    "\n",
    "D = dict()  \n",
    "\n",
    "for i in range (3):  \n",
    "\n",
    "    for j in range(2):  \n",
    "    \n",
    "        D[i] = j  \n",
    "\n",
    "a. {0: 1, 1: 1, 2: 1} \n",
    "\n",
    "b. {1: 0, 1: 1, 1: 2} \n",
    "\n",
    "c. {0: 1, 1: 2, 2: 3} \n",
    "\n",
    "d. {1: 2, 1: 1, 1: 0} \n",
    "\n",
    "### Solution: a"
   ]
  },
  {
   "cell_type": "markdown",
   "metadata": {},
   "source": [
    "# Q23: You are writing a function that increments player score in a soccer game \n",
    "  \n",
    "If no value is specified for points, then point must start with 1 \n",
    "\n",
    "If no value is specified for bonus, then bonus should be True \n",
    "\n",
    "01   def increment_score ( bonus , score , points ): \n",
    "\n",
    "    To meet the first requirement line 01 must be change to \n",
    "1. def increment_score ( bonus , score , points = 1 ):           (True or False) \n",
    "\n",
    "To meet the second requirement line 01 must be change to \n",
    "\n",
    "2. def increment_score ( bonus = True , score , points = 1 ):   (True or False) \n",
    "\n",
    "3. Once a parameter is defined with default value, any parameter to the right must also be defined with default values       (True or False) \n",
    "\n",
    "### Solution:\n",
    "    3. True"
   ]
  },
  {
   "cell_type": "markdown",
   "metadata": {},
   "source": [
    "# Q24: What will be output? \n",
    "  \n",
    "    def avg ( x , y , z = 50 ): \n",
    " \n",
    "    adding = x + y + z \n",
    " \n",
    "    avg_value = adding / 3 \n",
    " \n",
    "    return avg_value \n",
    "  \n",
    "y = avg ( x = 5 , y = 9 , z = 20 ) \n",
    "  \n",
    "    print(y) \n",
    "    \n",
    " ### Solution:\n",
    "11.333333333333334"
   ]
  },
  {
   "cell_type": "markdown",
   "metadata": {},
   "source": [
    "# Q25: What will be output? Describe it with reason and logic behind. Do multiple experiments with arguments / parameters to remove error, if occurs. \n",
    "\n",
    "def avg ( *opt_values , name ): \n",
    "  \n",
    "\n",
    "    avg_value = sum (opt_values) / len(opt_values) \n",
    " \n",
    "    print(‘name is: ’ + name + ‘Marks: ’ + str(avg_value)) \n",
    "\n",
    "avg ( 5 , 9 , 20, 34, 87, 112 , ‘Ali’ ) \n",
    "### Solution:\n",
    "\n",
    "avg ( 'Ali', 5 , 9 , 20, 34, 87, 112 ) \n",
    "\n",
    "\n",
    "\n",
    "There was an error that we always have to set the optional argument in last.\n",
    "\n",
    "All the passed arguments are stored in as a tuple, before they are passed to the function. \n",
    "\n",
    "if we defined optional argument at start then it generates error unsupported type error"
   ]
  },
  {
   "cell_type": "markdown",
   "metadata": {},
   "source": [
    "# Q26: Final output is not required. Just take copy pencil, think and write the output of each line, write down the link between parameters and arguments. Remove one or two ** from other_info and observe the ouput. \n",
    "\n",
    "def display_result(winner, score, **other_info): \n",
    "\n",
    "    print(\"The winner was \" + winner) \n",
    " \n",
    "    print(\"The score was \" + score) \n",
    "\n",
    "display_result(winner=“Manchester\", score=\"1-0\", overtime =\"yes\", injuries=\"none\")\n",
    "               \n",
    "### Solution(DRY_RUN):\n",
    "               first two parameters are defined and must be provided for functionncaling\n",
    "               and the last one (**other _info) is arbitary values and are optional values\n",
    "               on the bases on user's owership\n",
    "               "
   ]
  },
  {
   "cell_type": "markdown",
   "metadata": {},
   "source": [
    "# Q27:The position of parameters and arguments is re-arranged. Just think and find the logic behind output or error. \n",
    "\n",
    "def display_result(winner, **other_info, score): \n",
    "    print(\"The winner was \" + winner) \n",
    "    print(\"The score was \" + score) \n",
    "\n",
    "display_result(winner=“Manchester\", overtime =\"yes\", injuries=\"none“ , score=\"1-0“ ) \n",
    "               \n",
    "### Solution:\n",
    "As i alreaady told u before that, arbitrary parameters are always set at end\n",
    "the reason is that, before arbitrary values all the parameter are must be defined by user\n",
    "and the arbuitary values are ignored if user dnt want to provide arguments and compiler would not generate error               "
   ]
  },
  {
   "cell_type": "markdown",
   "metadata": {},
   "source": [
    "# Q28: What will be the output of the following Python expression if X=123? \n",
    " \n",
    "print(“%06d”%X) \n",
    "\n",
    "a) 123000 \n",
    "\n",
    "b) 000123 \n",
    "\n",
    "c) 000000123 \n",
    "\n",
    "d) 123000000 \n",
    "\n",
    "### Solution:\n",
    "    b(000123)"
   ]
  },
  {
   "cell_type": "markdown",
   "metadata": {},
   "source": [
    "# Q29: What will be the output of the following Python expression if x=22.19? \n",
    "print(\"%5.2f\"%x) \n",
    "\n",
    "a) 22.1900 \n",
    "\n",
    "b) 22.00000 \n",
    "\n",
    "c) 22.19 \n",
    "\n",
    "d) 22.20 \n",
    "\n",
    "### Solution:\n",
    "    c(22.19)\n",
    " "
   ]
  },
  {
   "cell_type": "markdown",
   "metadata": {},
   "source": [
    "# Q30: What will be the output of the following Python code? \n",
    "'{0:f}, {1:2f}, {2:05.2f}'.format(1.23456, 1.23456, 1.23456) \n",
    "\n",
    "a) Error \n",
    "\n",
    "b) ‘1.234560, 1.22345, 1.23’ \n",
    "\n",
    "c) No output \n",
    "\n",
    "d) ‘1.234560, 1.234560, 01.23’ \n",
    "\n",
    "### Solution:\n",
    "    d('1.234560, 1.234560, 01.23')"
   ]
  },
  {
   "cell_type": "markdown",
   "metadata": {},
   "source": [
    "# Q31: Write down the output of each line after each iterations. Do multiple experiments to change values \n",
    "\n",
    "i = 1 \n",
    "\n",
    "while False: \n",
    "\n",
    "    if i%2 == 0: \n",
    "    \n",
    "        break \n",
    "    \n",
    "    print(i) \n",
    "    \n",
    "    i += 2 \n",
    "    \n",
    "### Solution:\n",
    "There is no output comes yet because of false keyword with while loop\n",
    "if we change the values of i then result will also be same (NO RESULT)\n",
    "\n",
    "if we change condition False into True then we get the some kind of different outputs"
   ]
  },
  {
   "cell_type": "markdown",
   "metadata": {},
   "source": [
    "# Q32: Write down the output of each line after each iterations. Do multiple experiments to change values \n",
    "\n",
    "x = \"abcdef\" \n",
    "\n",
    "i = \"a\" \n",
    "\n",
    "while i in x: \n",
    "\n",
    "    x = x[:-1] \n",
    "    \n",
    "    print(i, end = \" \") \n",
    "\n",
    "### Solution:\n",
    "    line_1 : x is a string\n",
    "    line_1 : i is also a string(char)\n",
    "    line_3 : condition (Execute when i found in x)\n",
    "    line_4 : it will store the index of x by the iteration from -1 index to -6 index in x\n",
    "    (Iterating from index to find i if it not find it never be executed and come in whie loop\n",
    "    line_5) : print the i in 6 times because of iteration method is from -1 to end of complete string\n"
   ]
  },
  {
   "cell_type": "markdown",
   "metadata": {},
   "source": [
    "# Q33: Write down the output of each line after each iterations. Do multiple experiments to change values \n",
    "\n",
    "for i in ''.join(reversed(list('abcd'))): \n",
    "\n",
    "    print (i)\n",
    "\n",
    "### solution:\n",
    "    line_1 : for loop is for iterrated nd will separat the string on the basis of char(\"\") and reverse them\n",
    "    line_2: print the reverse string that will now converted into characters"
   ]
  },
  {
   "cell_type": "markdown",
   "metadata": {},
   "source": [
    "# Q34: Flow of the program. Write the output of each line after every iteration of ‘i’ \n",
    "\n",
    "for i in range(10): \n",
    "\n",
    "    if i == 5: \n",
    "    \n",
    "        break \n",
    "    \n",
    "    else: \n",
    "    \n",
    "        print(i) \n",
    "\n",
    "else: \n",
    "   \n",
    "    print(\"Here\") \n",
    "    \n",
    "### Solution:\n",
    "    line_1 : i for iterrated as a range of 10(-1)\n",
    "    line_2 : check every iterated value as compared with 5\n",
    "    line_3 : if it found it will break the loop\n",
    "    line_4 : else part is for display the i\n",
    "    line_5 : if raange will completed then it will display the print(\"HERE\")"
   ]
  },
  {
   "cell_type": "markdown",
   "metadata": {},
   "source": [
    "# Q35: What is the output? And understand the functionality of lambda function \n",
    "\n",
    "y = 6 \n",
    "\n",
    "z = lambda x: x * y \n",
    "\n",
    "print z(8)\n",
    "\n",
    "### Solution:\n",
    "48\n",
    "\n",
    "### Explanation\n",
    "We use lambda functions when we require a nameless function for a short period of time. \n",
    "In Python, we generally use it as an argument to a higher-order function"
   ]
  },
  {
   "cell_type": "markdown",
   "metadata": {},
   "source": [
    "# Q36: Write output and give proper logic of whatever the output comes. \n",
    "i=0 \n",
    "\n",
    "def change(i): \n",
    "\n",
    "   i=i+1 \n",
    "\n",
    "    return i \n",
    "\n",
    "change(1) \n",
    "\n",
    "print(i)\n",
    "\n",
    "### Solution:\n",
    "0\n",
    "\n",
    "### Explanation:\n",
    "    we return the i from function and dont store that result so that we get the answer zero\n",
    "    because we defined the value of i = 0 and print that value so that kind of result come."
   ]
  },
  {
   "cell_type": "markdown",
   "metadata": {},
   "source": [
    "# Q40: What will be output? Define this output clearly \n",
    "def change(one, *two):\n",
    "\n",
    "   print(type(two)) \n",
    "\n",
    "   print(two) \n",
    "\n",
    "change(1,2,3,4)\n",
    "\n",
    "### Solution:\n",
    "  <class 'tuple'>\n",
    "  (2, 3, 4)  \n",
    "\n",
    "### Explanation:\n",
    "    line_01 : defined the type of optional argument which are belong to tuple class\n",
    "    line_02 : display the optional arguments that we pass in function"
   ]
  },
  {
   "cell_type": "markdown",
   "metadata": {},
   "source": [
    "# Q41: What will be output? Define this output clearly \n",
    "def find(a, **b): \n",
    "    print(type(b)) \n",
    "find('letters',A='1',B='2') \n",
    "\n",
    "### Solution:\n",
    "    <class 'dict'\n",
    "\n",
    "### Explanation:\n",
    "line_01 : defined the type of optional argument which are belong to dictionary class\n",
    "    \n"
   ]
  },
  {
   "cell_type": "markdown",
   "metadata": {},
   "source": [
    "# Q42: Write output and define each line’s output for each iteration of ‘i’ \n",
    "def foo(i, x=[]): \n",
    "    x.append(i) \n",
    "    return x \n",
    "for i in range(3): \n",
    "    print(foo(i)\n",
    "          \n",
    "### SolutioN:\n",
    "\n",
    "[0]\n",
    "\n",
    "[0, 1]\n",
    "\n",
    "[0, 1, 2]\n",
    "          \n",
    "### Explanation:\n",
    "      In the foo function:\n",
    "          line_1 : list is expand and add iterated value i\n",
    "          line_2 : it will retun the iterated value\n",
    "          line_3: there is a for loop with the range of 3\n",
    "          line_4 : it take the character one by one from the list and expand(ADD) it into list and then display\n",
    "        "
   ]
  },
  {
   "cell_type": "markdown",
   "metadata": {},
   "source": [
    "# Q43: Evaluate the following Python arithmetic expression: and write which segment will execute first? (Brackets, Exponents, Multiplication, Addition / Subtraction, Left to right rule) \n",
    "\n",
    "        (3*(1+2)**2 - (2**2)*3)\n",
    "\n",
    "### Solution:\n",
    "it will follow the order of operations by Rule of PEMDAS\n",
    "\n",
    "### Order of operation - PEMDAS\n",
    "\t1. Parentheses ( )\n",
    "\t2. Exponent **\n",
    "\t3. Multiplication *\n",
    "\t4. Division / // %\n",
    "\t5. Addition +\n",
    "\t6. Subtraction -\n"
   ]
  },
  {
   "cell_type": "markdown",
   "metadata": {},
   "source": [
    "# Q44: You are creating a function that manipulates a number. The function has the following requirements: \n",
    "\n",
    " A float is passed into the function \n",
    "\n",
    " The function must take the absolute value of the float  \n",
    "\n",
    " Any decimal points after the integer must be removed \n",
    "\n",
    "A. math.fmod(x) \n",
    "\n",
    "B. math.frexp(x) \n",
    "\n",
    "C. math.floor(x) \n",
    "\n",
    "D. math.ceil(x) \n",
    "\n",
    "E. math.fabs(x) \n",
    "\n",
    "### Solution:\n",
    " E(math.fabs(x))\n",
    "### Explanation:\n",
    "fabs() : This function returns the absolute value of the number."
   ]
  },
  {
   "cell_type": "markdown",
   "metadata": {},
   "source": [
    "# Q45. You are writing code that generates a random integer with a minimum value of 5 and a maximum value of 11. \n",
    "Which two functions should you use? Each correct answer presents a complete solution. (Choose two.) \n",
    "\n",
    "A. random.randint(5, 12) \n",
    "\n",
    "B. random.randint(5, 11) \n",
    "\n",
    "C. random.randrange(5, 12, 1) \n",
    "\n",
    "D. random.randrange(5, 11, 1) \n",
    "\n",
    "### Solution:\n",
    "    B. random.randint(5, 11) \n",
    "    D. random.randrange(5, 11, 1) \n"
   ]
  },
  {
   "cell_type": "markdown",
   "metadata": {},
   "source": [
    "# Q46: Write a program that receives marks from user and check the grade. \n",
    "  \n",
    "Marks greater than equal to 90 then A grade \n",
    "\n",
    "Marks between 80 to 90, B grade \n",
    "\n",
    "Marks between 70 to 80, C grade \n",
    "\n",
    "Marks between 60 to 70, D grade \n",
    "\n",
    "Marks less than equal to 60 then E grade "
   ]
  },
  {
   "cell_type": "code",
   "execution_count": 28,
   "metadata": {},
   "outputs": [
    {
     "name": "stdout",
     "output_type": "stream",
     "text": [
      "Enter ur marks21\n",
      "E grade\n"
     ]
    }
   ],
   "source": [
    "marks = int(input(\"Enter ur marks\"))\n",
    "if marks >= 90:\n",
    "    print(\"A grade\")\n",
    "elif marks >=80: # and marks < 90:\n",
    "    print(\"B grade\")\n",
    "elif marks >= 70: # and marks < 80:\n",
    "    print(\"C grade\")\n",
    "elif marks >= 60: # and marks <70:\n",
    "    print(\"D grade\")\n",
    "else: # marks <= 60:\n",
    "    print(\"E grade\")\n",
    "    "
   ]
  }
 ],
 "metadata": {
  "kernelspec": {
   "display_name": "Python 3",
   "language": "python",
   "name": "python3"
  },
  "language_info": {
   "codemirror_mode": {
    "name": "ipython",
    "version": 3
   },
   "file_extension": ".py",
   "mimetype": "text/x-python",
   "name": "python",
   "nbconvert_exporter": "python",
   "pygments_lexer": "ipython3",
   "version": "3.7.3"
  }
 },
 "nbformat": 4,
 "nbformat_minor": 2
}
